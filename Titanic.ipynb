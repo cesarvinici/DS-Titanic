{
 "cells": [
  {
   "cell_type": "code",
   "execution_count": 1,
   "metadata": {},
   "outputs": [],
   "source": [
    "import pandas as pd\n",
    "import numpy as np\n",
    "import seaborn as sns\n",
    "import matplotlib.pyplot as plt\n",
    "from sklearn.linear_model import LogisticRegression\n",
    "from sklearn.model_selection import train_test_split\n",
    "from sklearn.ensemble import RandomForestClassifier\n",
    "from sklearn.tree import DecisionTreeClassifier\n",
    "from sklearn.preprocessing import StandardScaler\n",
    "%matplotlib inline"
   ]
  },
  {
   "cell_type": "code",
   "execution_count": 2,
   "metadata": {},
   "outputs": [],
   "source": [
    "df_train = pd.read_csv('titanic/train.csv')\n",
    "df_test = pd.read_csv('titanic/test.csv')\n",
    "gender_sub = pd.read_csv(\"titanic/gender_submission.csv\")"
   ]
  },
  {
   "cell_type": "code",
   "execution_count": 3,
   "metadata": {},
   "outputs": [
    {
     "data": {
      "text/html": [
       "<div>\n",
       "<style scoped>\n",
       "    .dataframe tbody tr th:only-of-type {\n",
       "        vertical-align: middle;\n",
       "    }\n",
       "\n",
       "    .dataframe tbody tr th {\n",
       "        vertical-align: top;\n",
       "    }\n",
       "\n",
       "    .dataframe thead th {\n",
       "        text-align: right;\n",
       "    }\n",
       "</style>\n",
       "<table border=\"1\" class=\"dataframe\">\n",
       "  <thead>\n",
       "    <tr style=\"text-align: right;\">\n",
       "      <th></th>\n",
       "      <th>PassengerId</th>\n",
       "      <th>Survived</th>\n",
       "      <th>Pclass</th>\n",
       "      <th>Name</th>\n",
       "      <th>Sex</th>\n",
       "      <th>Age</th>\n",
       "      <th>SibSp</th>\n",
       "      <th>Parch</th>\n",
       "      <th>Ticket</th>\n",
       "      <th>Fare</th>\n",
       "      <th>Cabin</th>\n",
       "      <th>Embarked</th>\n",
       "    </tr>\n",
       "  </thead>\n",
       "  <tbody>\n",
       "    <tr>\n",
       "      <th>822</th>\n",
       "      <td>823</td>\n",
       "      <td>0</td>\n",
       "      <td>1</td>\n",
       "      <td>Reuchlin, Jonkheer. John George</td>\n",
       "      <td>male</td>\n",
       "      <td>38.0</td>\n",
       "      <td>0</td>\n",
       "      <td>0</td>\n",
       "      <td>19972</td>\n",
       "      <td>0.0000</td>\n",
       "      <td>NaN</td>\n",
       "      <td>S</td>\n",
       "    </tr>\n",
       "    <tr>\n",
       "      <th>701</th>\n",
       "      <td>702</td>\n",
       "      <td>1</td>\n",
       "      <td>1</td>\n",
       "      <td>Silverthorne, Mr. Spencer Victor</td>\n",
       "      <td>male</td>\n",
       "      <td>35.0</td>\n",
       "      <td>0</td>\n",
       "      <td>0</td>\n",
       "      <td>PC 17475</td>\n",
       "      <td>26.2875</td>\n",
       "      <td>E24</td>\n",
       "      <td>S</td>\n",
       "    </tr>\n",
       "    <tr>\n",
       "      <th>168</th>\n",
       "      <td>169</td>\n",
       "      <td>0</td>\n",
       "      <td>1</td>\n",
       "      <td>Baumann, Mr. John D</td>\n",
       "      <td>male</td>\n",
       "      <td>NaN</td>\n",
       "      <td>0</td>\n",
       "      <td>0</td>\n",
       "      <td>PC 17318</td>\n",
       "      <td>25.9250</td>\n",
       "      <td>NaN</td>\n",
       "      <td>S</td>\n",
       "    </tr>\n",
       "    <tr>\n",
       "      <th>453</th>\n",
       "      <td>454</td>\n",
       "      <td>1</td>\n",
       "      <td>1</td>\n",
       "      <td>Goldenberg, Mr. Samuel L</td>\n",
       "      <td>male</td>\n",
       "      <td>49.0</td>\n",
       "      <td>1</td>\n",
       "      <td>0</td>\n",
       "      <td>17453</td>\n",
       "      <td>89.1042</td>\n",
       "      <td>C92</td>\n",
       "      <td>C</td>\n",
       "    </tr>\n",
       "    <tr>\n",
       "      <th>243</th>\n",
       "      <td>244</td>\n",
       "      <td>0</td>\n",
       "      <td>3</td>\n",
       "      <td>Maenpaa, Mr. Matti Alexanteri</td>\n",
       "      <td>male</td>\n",
       "      <td>22.0</td>\n",
       "      <td>0</td>\n",
       "      <td>0</td>\n",
       "      <td>STON/O 2. 3101275</td>\n",
       "      <td>7.1250</td>\n",
       "      <td>NaN</td>\n",
       "      <td>S</td>\n",
       "    </tr>\n",
       "    <tr>\n",
       "      <th>158</th>\n",
       "      <td>159</td>\n",
       "      <td>0</td>\n",
       "      <td>3</td>\n",
       "      <td>Smiljanic, Mr. Mile</td>\n",
       "      <td>male</td>\n",
       "      <td>NaN</td>\n",
       "      <td>0</td>\n",
       "      <td>0</td>\n",
       "      <td>315037</td>\n",
       "      <td>8.6625</td>\n",
       "      <td>NaN</td>\n",
       "      <td>S</td>\n",
       "    </tr>\n",
       "    <tr>\n",
       "      <th>748</th>\n",
       "      <td>749</td>\n",
       "      <td>0</td>\n",
       "      <td>1</td>\n",
       "      <td>Marvin, Mr. Daniel Warner</td>\n",
       "      <td>male</td>\n",
       "      <td>19.0</td>\n",
       "      <td>1</td>\n",
       "      <td>0</td>\n",
       "      <td>113773</td>\n",
       "      <td>53.1000</td>\n",
       "      <td>D30</td>\n",
       "      <td>S</td>\n",
       "    </tr>\n",
       "    <tr>\n",
       "      <th>124</th>\n",
       "      <td>125</td>\n",
       "      <td>0</td>\n",
       "      <td>1</td>\n",
       "      <td>White, Mr. Percival Wayland</td>\n",
       "      <td>male</td>\n",
       "      <td>54.0</td>\n",
       "      <td>0</td>\n",
       "      <td>1</td>\n",
       "      <td>35281</td>\n",
       "      <td>77.2875</td>\n",
       "      <td>D26</td>\n",
       "      <td>S</td>\n",
       "    </tr>\n",
       "    <tr>\n",
       "      <th>691</th>\n",
       "      <td>692</td>\n",
       "      <td>1</td>\n",
       "      <td>3</td>\n",
       "      <td>Karun, Miss. Manca</td>\n",
       "      <td>female</td>\n",
       "      <td>4.0</td>\n",
       "      <td>0</td>\n",
       "      <td>1</td>\n",
       "      <td>349256</td>\n",
       "      <td>13.4167</td>\n",
       "      <td>NaN</td>\n",
       "      <td>C</td>\n",
       "    </tr>\n",
       "    <tr>\n",
       "      <th>385</th>\n",
       "      <td>386</td>\n",
       "      <td>0</td>\n",
       "      <td>2</td>\n",
       "      <td>Davies, Mr. Charles Henry</td>\n",
       "      <td>male</td>\n",
       "      <td>18.0</td>\n",
       "      <td>0</td>\n",
       "      <td>0</td>\n",
       "      <td>S.O.C. 14879</td>\n",
       "      <td>73.5000</td>\n",
       "      <td>NaN</td>\n",
       "      <td>S</td>\n",
       "    </tr>\n",
       "  </tbody>\n",
       "</table>\n",
       "</div>"
      ],
      "text/plain": [
       "     PassengerId  Survived  Pclass                              Name     Sex  \\\n",
       "822          823         0       1   Reuchlin, Jonkheer. John George    male   \n",
       "701          702         1       1  Silverthorne, Mr. Spencer Victor    male   \n",
       "168          169         0       1               Baumann, Mr. John D    male   \n",
       "453          454         1       1          Goldenberg, Mr. Samuel L    male   \n",
       "243          244         0       3     Maenpaa, Mr. Matti Alexanteri    male   \n",
       "158          159         0       3               Smiljanic, Mr. Mile    male   \n",
       "748          749         0       1         Marvin, Mr. Daniel Warner    male   \n",
       "124          125         0       1       White, Mr. Percival Wayland    male   \n",
       "691          692         1       3                Karun, Miss. Manca  female   \n",
       "385          386         0       2         Davies, Mr. Charles Henry    male   \n",
       "\n",
       "      Age  SibSp  Parch             Ticket     Fare Cabin Embarked  \n",
       "822  38.0      0      0              19972   0.0000   NaN        S  \n",
       "701  35.0      0      0           PC 17475  26.2875   E24        S  \n",
       "168   NaN      0      0           PC 17318  25.9250   NaN        S  \n",
       "453  49.0      1      0              17453  89.1042   C92        C  \n",
       "243  22.0      0      0  STON/O 2. 3101275   7.1250   NaN        S  \n",
       "158   NaN      0      0             315037   8.6625   NaN        S  \n",
       "748  19.0      1      0             113773  53.1000   D30        S  \n",
       "124  54.0      0      1              35281  77.2875   D26        S  \n",
       "691   4.0      0      1             349256  13.4167   NaN        C  \n",
       "385  18.0      0      0       S.O.C. 14879  73.5000   NaN        S  "
      ]
     },
     "execution_count": 3,
     "metadata": {},
     "output_type": "execute_result"
    }
   ],
   "source": [
    "df_train.sample(10)"
   ]
  },
  {
   "cell_type": "code",
   "execution_count": 4,
   "metadata": {},
   "outputs": [
    {
     "data": {
      "text/html": [
       "<div>\n",
       "<style scoped>\n",
       "    .dataframe tbody tr th:only-of-type {\n",
       "        vertical-align: middle;\n",
       "    }\n",
       "\n",
       "    .dataframe tbody tr th {\n",
       "        vertical-align: top;\n",
       "    }\n",
       "\n",
       "    .dataframe thead th {\n",
       "        text-align: right;\n",
       "    }\n",
       "</style>\n",
       "<table border=\"1\" class=\"dataframe\">\n",
       "  <thead>\n",
       "    <tr style=\"text-align: right;\">\n",
       "      <th></th>\n",
       "      <th>PassengerId</th>\n",
       "      <th>Pclass</th>\n",
       "      <th>Name</th>\n",
       "      <th>Sex</th>\n",
       "      <th>Age</th>\n",
       "      <th>SibSp</th>\n",
       "      <th>Parch</th>\n",
       "      <th>Ticket</th>\n",
       "      <th>Fare</th>\n",
       "      <th>Cabin</th>\n",
       "      <th>Embarked</th>\n",
       "    </tr>\n",
       "  </thead>\n",
       "  <tbody>\n",
       "    <tr>\n",
       "      <th>202</th>\n",
       "      <td>1094</td>\n",
       "      <td>1</td>\n",
       "      <td>Astor, Col. John Jacob</td>\n",
       "      <td>male</td>\n",
       "      <td>47.0</td>\n",
       "      <td>1</td>\n",
       "      <td>0</td>\n",
       "      <td>PC 17757</td>\n",
       "      <td>227.5250</td>\n",
       "      <td>C62 C64</td>\n",
       "      <td>C</td>\n",
       "    </tr>\n",
       "    <tr>\n",
       "      <th>75</th>\n",
       "      <td>967</td>\n",
       "      <td>1</td>\n",
       "      <td>Keeping, Mr. Edwin</td>\n",
       "      <td>male</td>\n",
       "      <td>32.5</td>\n",
       "      <td>0</td>\n",
       "      <td>0</td>\n",
       "      <td>113503</td>\n",
       "      <td>211.5000</td>\n",
       "      <td>C132</td>\n",
       "      <td>C</td>\n",
       "    </tr>\n",
       "    <tr>\n",
       "      <th>315</th>\n",
       "      <td>1207</td>\n",
       "      <td>3</td>\n",
       "      <td>Hagardon, Miss. Kate</td>\n",
       "      <td>female</td>\n",
       "      <td>17.0</td>\n",
       "      <td>0</td>\n",
       "      <td>0</td>\n",
       "      <td>AQ/3. 30631</td>\n",
       "      <td>7.7333</td>\n",
       "      <td>NaN</td>\n",
       "      <td>Q</td>\n",
       "    </tr>\n",
       "    <tr>\n",
       "      <th>111</th>\n",
       "      <td>1003</td>\n",
       "      <td>3</td>\n",
       "      <td>Shine, Miss. Ellen Natalia</td>\n",
       "      <td>female</td>\n",
       "      <td>NaN</td>\n",
       "      <td>0</td>\n",
       "      <td>0</td>\n",
       "      <td>330968</td>\n",
       "      <td>7.7792</td>\n",
       "      <td>NaN</td>\n",
       "      <td>Q</td>\n",
       "    </tr>\n",
       "    <tr>\n",
       "      <th>291</th>\n",
       "      <td>1183</td>\n",
       "      <td>3</td>\n",
       "      <td>Daly, Miss. Margaret Marcella Maggie\"\"</td>\n",
       "      <td>female</td>\n",
       "      <td>30.0</td>\n",
       "      <td>0</td>\n",
       "      <td>0</td>\n",
       "      <td>382650</td>\n",
       "      <td>6.9500</td>\n",
       "      <td>NaN</td>\n",
       "      <td>Q</td>\n",
       "    </tr>\n",
       "    <tr>\n",
       "      <th>279</th>\n",
       "      <td>1171</td>\n",
       "      <td>2</td>\n",
       "      <td>Oxenham, Mr. Percy Thomas</td>\n",
       "      <td>male</td>\n",
       "      <td>22.0</td>\n",
       "      <td>0</td>\n",
       "      <td>0</td>\n",
       "      <td>W./C. 14260</td>\n",
       "      <td>10.5000</td>\n",
       "      <td>NaN</td>\n",
       "      <td>S</td>\n",
       "    </tr>\n",
       "    <tr>\n",
       "      <th>313</th>\n",
       "      <td>1205</td>\n",
       "      <td>3</td>\n",
       "      <td>Carr, Miss. Jeannie</td>\n",
       "      <td>female</td>\n",
       "      <td>37.0</td>\n",
       "      <td>0</td>\n",
       "      <td>0</td>\n",
       "      <td>368364</td>\n",
       "      <td>7.7500</td>\n",
       "      <td>NaN</td>\n",
       "      <td>Q</td>\n",
       "    </tr>\n",
       "    <tr>\n",
       "      <th>29</th>\n",
       "      <td>921</td>\n",
       "      <td>3</td>\n",
       "      <td>Samaan, Mr. Elias</td>\n",
       "      <td>male</td>\n",
       "      <td>NaN</td>\n",
       "      <td>2</td>\n",
       "      <td>0</td>\n",
       "      <td>2662</td>\n",
       "      <td>21.6792</td>\n",
       "      <td>NaN</td>\n",
       "      <td>C</td>\n",
       "    </tr>\n",
       "    <tr>\n",
       "      <th>412</th>\n",
       "      <td>1304</td>\n",
       "      <td>3</td>\n",
       "      <td>Henriksson, Miss. Jenny Lovisa</td>\n",
       "      <td>female</td>\n",
       "      <td>28.0</td>\n",
       "      <td>0</td>\n",
       "      <td>0</td>\n",
       "      <td>347086</td>\n",
       "      <td>7.7750</td>\n",
       "      <td>NaN</td>\n",
       "      <td>S</td>\n",
       "    </tr>\n",
       "    <tr>\n",
       "      <th>417</th>\n",
       "      <td>1309</td>\n",
       "      <td>3</td>\n",
       "      <td>Peter, Master. Michael J</td>\n",
       "      <td>male</td>\n",
       "      <td>NaN</td>\n",
       "      <td>1</td>\n",
       "      <td>1</td>\n",
       "      <td>2668</td>\n",
       "      <td>22.3583</td>\n",
       "      <td>NaN</td>\n",
       "      <td>C</td>\n",
       "    </tr>\n",
       "  </tbody>\n",
       "</table>\n",
       "</div>"
      ],
      "text/plain": [
       "     PassengerId  Pclass                                    Name     Sex  \\\n",
       "202         1094       1                  Astor, Col. John Jacob    male   \n",
       "75           967       1                      Keeping, Mr. Edwin    male   \n",
       "315         1207       3                    Hagardon, Miss. Kate  female   \n",
       "111         1003       3              Shine, Miss. Ellen Natalia  female   \n",
       "291         1183       3  Daly, Miss. Margaret Marcella Maggie\"\"  female   \n",
       "279         1171       2               Oxenham, Mr. Percy Thomas    male   \n",
       "313         1205       3                     Carr, Miss. Jeannie  female   \n",
       "29           921       3                       Samaan, Mr. Elias    male   \n",
       "412         1304       3          Henriksson, Miss. Jenny Lovisa  female   \n",
       "417         1309       3                Peter, Master. Michael J    male   \n",
       "\n",
       "      Age  SibSp  Parch       Ticket      Fare    Cabin Embarked  \n",
       "202  47.0      1      0     PC 17757  227.5250  C62 C64        C  \n",
       "75   32.5      0      0       113503  211.5000     C132        C  \n",
       "315  17.0      0      0  AQ/3. 30631    7.7333      NaN        Q  \n",
       "111   NaN      0      0       330968    7.7792      NaN        Q  \n",
       "291  30.0      0      0       382650    6.9500      NaN        Q  \n",
       "279  22.0      0      0  W./C. 14260   10.5000      NaN        S  \n",
       "313  37.0      0      0       368364    7.7500      NaN        Q  \n",
       "29    NaN      2      0         2662   21.6792      NaN        C  \n",
       "412  28.0      0      0       347086    7.7750      NaN        S  \n",
       "417   NaN      1      1         2668   22.3583      NaN        C  "
      ]
     },
     "execution_count": 4,
     "metadata": {},
     "output_type": "execute_result"
    }
   ],
   "source": [
    "df_test.sample(10)"
   ]
  },
  {
   "cell_type": "code",
   "execution_count": 5,
   "metadata": {},
   "outputs": [],
   "source": [
    "def bool_sex(sex):\n",
    "    return 1 if sex == 'female' else 0"
   ]
  },
  {
   "cell_type": "markdown",
   "metadata": {},
   "source": [
    "Vamos criar uma *baseline* fazendo um teste como se todas as mulheres tiveram sobrevivido."
   ]
  },
  {
   "cell_type": "code",
   "execution_count": 6,
   "metadata": {},
   "outputs": [
    {
     "data": {
      "text/html": [
       "<div>\n",
       "<style scoped>\n",
       "    .dataframe tbody tr th:only-of-type {\n",
       "        vertical-align: middle;\n",
       "    }\n",
       "\n",
       "    .dataframe tbody tr th {\n",
       "        vertical-align: top;\n",
       "    }\n",
       "\n",
       "    .dataframe thead th {\n",
       "        text-align: right;\n",
       "    }\n",
       "</style>\n",
       "<table border=\"1\" class=\"dataframe\">\n",
       "  <thead>\n",
       "    <tr style=\"text-align: right;\">\n",
       "      <th></th>\n",
       "      <th>PassengerId</th>\n",
       "      <th>Pclass</th>\n",
       "      <th>Name</th>\n",
       "      <th>Sex</th>\n",
       "      <th>Age</th>\n",
       "      <th>SibSp</th>\n",
       "      <th>Parch</th>\n",
       "      <th>Ticket</th>\n",
       "      <th>Fare</th>\n",
       "      <th>Cabin</th>\n",
       "      <th>Embarked</th>\n",
       "      <th>Survived</th>\n",
       "    </tr>\n",
       "  </thead>\n",
       "  <tbody>\n",
       "    <tr>\n",
       "      <th>15</th>\n",
       "      <td>907</td>\n",
       "      <td>2</td>\n",
       "      <td>del Carlo, Mrs. Sebastiano (Argenia Genovesi)</td>\n",
       "      <td>female</td>\n",
       "      <td>24.0</td>\n",
       "      <td>1</td>\n",
       "      <td>0</td>\n",
       "      <td>SC/PARIS 2167</td>\n",
       "      <td>27.7208</td>\n",
       "      <td>NaN</td>\n",
       "      <td>C</td>\n",
       "      <td>1</td>\n",
       "    </tr>\n",
       "    <tr>\n",
       "      <th>50</th>\n",
       "      <td>942</td>\n",
       "      <td>1</td>\n",
       "      <td>Smith, Mr. Lucien Philip</td>\n",
       "      <td>male</td>\n",
       "      <td>24.0</td>\n",
       "      <td>1</td>\n",
       "      <td>0</td>\n",
       "      <td>13695</td>\n",
       "      <td>60.0000</td>\n",
       "      <td>C31</td>\n",
       "      <td>S</td>\n",
       "      <td>0</td>\n",
       "    </tr>\n",
       "    <tr>\n",
       "      <th>414</th>\n",
       "      <td>1306</td>\n",
       "      <td>1</td>\n",
       "      <td>Oliva y Ocana, Dona. Fermina</td>\n",
       "      <td>female</td>\n",
       "      <td>39.0</td>\n",
       "      <td>0</td>\n",
       "      <td>0</td>\n",
       "      <td>PC 17758</td>\n",
       "      <td>108.9000</td>\n",
       "      <td>C105</td>\n",
       "      <td>C</td>\n",
       "      <td>1</td>\n",
       "    </tr>\n",
       "    <tr>\n",
       "      <th>263</th>\n",
       "      <td>1155</td>\n",
       "      <td>3</td>\n",
       "      <td>Klasen, Miss. Gertrud Emilia</td>\n",
       "      <td>female</td>\n",
       "      <td>1.0</td>\n",
       "      <td>1</td>\n",
       "      <td>1</td>\n",
       "      <td>350405</td>\n",
       "      <td>12.1833</td>\n",
       "      <td>NaN</td>\n",
       "      <td>S</td>\n",
       "      <td>1</td>\n",
       "    </tr>\n",
       "    <tr>\n",
       "      <th>284</th>\n",
       "      <td>1176</td>\n",
       "      <td>3</td>\n",
       "      <td>Rosblom, Miss. Salli Helena</td>\n",
       "      <td>female</td>\n",
       "      <td>2.0</td>\n",
       "      <td>1</td>\n",
       "      <td>1</td>\n",
       "      <td>370129</td>\n",
       "      <td>20.2125</td>\n",
       "      <td>NaN</td>\n",
       "      <td>S</td>\n",
       "      <td>1</td>\n",
       "    </tr>\n",
       "    <tr>\n",
       "      <th>99</th>\n",
       "      <td>991</td>\n",
       "      <td>3</td>\n",
       "      <td>Nancarrow, Mr. William Henry</td>\n",
       "      <td>male</td>\n",
       "      <td>33.0</td>\n",
       "      <td>0</td>\n",
       "      <td>0</td>\n",
       "      <td>A./5. 3338</td>\n",
       "      <td>8.0500</td>\n",
       "      <td>NaN</td>\n",
       "      <td>S</td>\n",
       "      <td>0</td>\n",
       "    </tr>\n",
       "    <tr>\n",
       "      <th>327</th>\n",
       "      <td>1219</td>\n",
       "      <td>1</td>\n",
       "      <td>Rosenshine, Mr. George (Mr George Thorne\")\"</td>\n",
       "      <td>male</td>\n",
       "      <td>46.0</td>\n",
       "      <td>0</td>\n",
       "      <td>0</td>\n",
       "      <td>PC 17585</td>\n",
       "      <td>79.2000</td>\n",
       "      <td>NaN</td>\n",
       "      <td>C</td>\n",
       "      <td>0</td>\n",
       "    </tr>\n",
       "    <tr>\n",
       "      <th>183</th>\n",
       "      <td>1075</td>\n",
       "      <td>3</td>\n",
       "      <td>Lane, Mr. Patrick</td>\n",
       "      <td>male</td>\n",
       "      <td>NaN</td>\n",
       "      <td>0</td>\n",
       "      <td>0</td>\n",
       "      <td>7935</td>\n",
       "      <td>7.7500</td>\n",
       "      <td>NaN</td>\n",
       "      <td>Q</td>\n",
       "      <td>0</td>\n",
       "    </tr>\n",
       "    <tr>\n",
       "      <th>347</th>\n",
       "      <td>1239</td>\n",
       "      <td>3</td>\n",
       "      <td>Whabee, Mrs. George Joseph (Shawneene Abi-Saab)</td>\n",
       "      <td>female</td>\n",
       "      <td>38.0</td>\n",
       "      <td>0</td>\n",
       "      <td>0</td>\n",
       "      <td>2688</td>\n",
       "      <td>7.2292</td>\n",
       "      <td>NaN</td>\n",
       "      <td>C</td>\n",
       "      <td>1</td>\n",
       "    </tr>\n",
       "    <tr>\n",
       "      <th>282</th>\n",
       "      <td>1174</td>\n",
       "      <td>3</td>\n",
       "      <td>Fleming, Miss. Honora</td>\n",
       "      <td>female</td>\n",
       "      <td>NaN</td>\n",
       "      <td>0</td>\n",
       "      <td>0</td>\n",
       "      <td>364859</td>\n",
       "      <td>7.7500</td>\n",
       "      <td>NaN</td>\n",
       "      <td>Q</td>\n",
       "      <td>1</td>\n",
       "    </tr>\n",
       "  </tbody>\n",
       "</table>\n",
       "</div>"
      ],
      "text/plain": [
       "     PassengerId  Pclass                                             Name  \\\n",
       "15           907       2    del Carlo, Mrs. Sebastiano (Argenia Genovesi)   \n",
       "50           942       1                         Smith, Mr. Lucien Philip   \n",
       "414         1306       1                     Oliva y Ocana, Dona. Fermina   \n",
       "263         1155       3                     Klasen, Miss. Gertrud Emilia   \n",
       "284         1176       3                      Rosblom, Miss. Salli Helena   \n",
       "99           991       3                     Nancarrow, Mr. William Henry   \n",
       "327         1219       1      Rosenshine, Mr. George (Mr George Thorne\")\"   \n",
       "183         1075       3                                Lane, Mr. Patrick   \n",
       "347         1239       3  Whabee, Mrs. George Joseph (Shawneene Abi-Saab)   \n",
       "282         1174       3                            Fleming, Miss. Honora   \n",
       "\n",
       "        Sex   Age  SibSp  Parch         Ticket      Fare Cabin Embarked  \\\n",
       "15   female  24.0      1      0  SC/PARIS 2167   27.7208   NaN        C   \n",
       "50     male  24.0      1      0          13695   60.0000   C31        S   \n",
       "414  female  39.0      0      0       PC 17758  108.9000  C105        C   \n",
       "263  female   1.0      1      1         350405   12.1833   NaN        S   \n",
       "284  female   2.0      1      1         370129   20.2125   NaN        S   \n",
       "99     male  33.0      0      0     A./5. 3338    8.0500   NaN        S   \n",
       "327    male  46.0      0      0       PC 17585   79.2000   NaN        C   \n",
       "183    male   NaN      0      0           7935    7.7500   NaN        Q   \n",
       "347  female  38.0      0      0           2688    7.2292   NaN        C   \n",
       "282  female   NaN      0      0         364859    7.7500   NaN        Q   \n",
       "\n",
       "     Survived  \n",
       "15          1  \n",
       "50          0  \n",
       "414         1  \n",
       "263         1  \n",
       "284         1  \n",
       "99          0  \n",
       "327         0  \n",
       "183         0  \n",
       "347         1  \n",
       "282         1  "
      ]
     },
     "execution_count": 6,
     "metadata": {},
     "output_type": "execute_result"
    }
   ],
   "source": [
    "baseline = df_test.copy()\n",
    "baseline['Survived'] = pd.Series(baseline['Sex'].apply(lambda x: x == 'female').astype(int))\n",
    "baseline.sample(10)"
   ]
  },
  {
   "cell_type": "markdown",
   "metadata": {},
   "source": [
    "### Salvando a baseline em um arquivo csv"
   ]
  },
  {
   "cell_type": "code",
   "execution_count": 7,
   "metadata": {},
   "outputs": [],
   "source": [
    "baseline.to_csv(\"results/baseline.csv\", columns=['PassengerId', 'Survived'], index=None)"
   ]
  },
  {
   "cell_type": "code",
   "execution_count": 8,
   "metadata": {},
   "outputs": [
    {
     "name": "stdout",
     "output_type": "stream",
     "text": [
      "PassengerId,Survived\r\n",
      "892,0\r\n",
      "893,1\r\n",
      "894,0\r\n",
      "895,0\r\n",
      "896,1\r\n",
      "897,0\r\n",
      "898,1\r\n",
      "899,0\r\n",
      "900,1\r\n"
     ]
    }
   ],
   "source": [
    "!head -n10 results/baseline.csv"
   ]
  },
  {
   "cell_type": "markdown",
   "metadata": {},
   "source": [
    "* Baseline Kaggle Score: 0.76555"
   ]
  },
  {
   "cell_type": "markdown",
   "metadata": {},
   "source": [
    "## Iniciando desenvolvimento do modelo\n",
    "\n",
    "Primeiro vamos analisar a distribuição dos dados e tentar preencher os que faltam.\n",
    "\n",
    "Verificando se existe alguma correlação entre os dados"
   ]
  },
  {
   "cell_type": "code",
   "execution_count": 9,
   "metadata": {},
   "outputs": [
    {
     "data": {
      "text/plain": [
       "<matplotlib.axes._subplots.AxesSubplot at 0x7f2e52b837d0>"
      ]
     },
     "execution_count": 9,
     "metadata": {},
     "output_type": "execute_result"
    },
    {
     "data": {
      "image/png": "[encoded data removed]",
      "text/plain": [
       "<Figure size 864x432 with 2 Axes>"
      ]
     },
     "metadata": {
      "needs_background": "light"
     },
     "output_type": "display_data"
    }
   ],
   "source": [
    "plt.figure(figsize=(12,6))\n",
    "sns.heatmap(df_train.corr(), annot=True )"
   ]
  },
  {
   "cell_type": "markdown",
   "metadata": {},
   "source": [
    "De fato existe uma pequena correlação entre sexo e sobrevivência, talves por isso o baseline não foi tão ruim, lembrando que mulheres e crianças tiveram prioridade de salvamento.\n",
    "\n",
    "\n",
    "Existem algumas informações faltantes no dataframe, vamos tentar preencher de acordo com outros dados, por exemplo, vamos preencher as idades faltantes de acordo com o título dado as pessoas (Mr., Mrs, Miss, etc)."
   ]
  },
  {
   "cell_type": "markdown",
   "metadata": {},
   "source": [
    "Criando uma função que vai dizer se a pessoa tem um determinado título."
   ]
  },
  {
   "cell_type": "code",
   "execution_count": 10,
   "metadata": {},
   "outputs": [],
   "source": [
    "def has_title(title , df):\n",
    "    df['Tem_'+title] = df['Name'].str.contains(title, regex=False).astype(int)"
   ]
  },
  {
   "cell_type": "code",
   "execution_count": 11,
   "metadata": {},
   "outputs": [],
   "source": [
    "titulos = df_train['Name'].str.findall(r'\\w*\\.')\n",
    "titulo_lista = []\n",
    "for titulo in titulos:\n",
    "    titulo_lista.append(titulo[0])\n",
    "\n",
    "titulo_lista = set(titulo_lista)"
   ]
  },
  {
   "cell_type": "code",
   "execution_count": 12,
   "metadata": {},
   "outputs": [
    {
     "name": "stdout",
     "output_type": "stream",
     "text": [
      "Sir.: 1\n",
      "Mlle.: 2\n",
      "Capt.: 1\n",
      "Mrs.: 125\n",
      "Col.: 2\n",
      "Jonkheer.: 1\n",
      "Don.: 1\n",
      "Lady.: 1\n",
      "Major.: 2\n",
      "Miss.: 182\n",
      "Dr.: 7\n",
      "Mme.: 1\n",
      "Countess.: 1\n",
      "Ms.: 1\n",
      "Mr.: 517\n",
      "Master.: 40\n",
      "Rev.: 6\n"
     ]
    }
   ],
   "source": [
    "for titulo in titulo_lista:\n",
    "    print(f\"{titulo}: {df_train['Name'].str.contains(titulo, regex=False).astype(int).sum()}\")\n",
    "    has_title(titulo, df_train)\n",
    "    \n",
    "    \n"
   ]
  },
  {
   "cell_type": "code",
   "execution_count": 13,
   "metadata": {},
   "outputs": [
    {
     "data": {
      "text/plain": [
       "['Sir.',\n",
       " 'Mlle.',\n",
       " 'Capt.',\n",
       " 'Mrs.',\n",
       " 'Col.',\n",
       " 'Jonkheer.',\n",
       " 'Don.',\n",
       " 'Lady.',\n",
       " 'Major.',\n",
       " 'Miss.',\n",
       " 'Dr.',\n",
       " 'Mme.',\n",
       " 'Countess.',\n",
       " 'Ms.',\n",
       " 'Mr.',\n",
       " 'Master.',\n",
       " 'Rev.']"
      ]
     },
     "execution_count": 13,
     "metadata": {},
     "output_type": "execute_result"
    }
   ],
   "source": [
    "list(titulo_lista)\n",
    "\n",
    "# has_title('Master.', df_train)\n",
    "# has_title(\"Mr.\", df_train)\n",
    "# has_title(\"Mrs.\", df_train)\n",
    "# has_title(\"Miss.\", df_train)\n",
    "# has_title(\"Capt.\", df_train)\n",
    "# has_title(\"Major.\", df_train)\n",
    "# has_title(\"Countess.\", df_train)\n",
    "# has_title(\"Col.\", df_train)\n",
    "# has_title(\"Dr.\", df_train)\n",
    "# df_train.head(3)"
   ]
  },
  {
   "cell_type": "code",
   "execution_count": 14,
   "metadata": {},
   "outputs": [
    {
     "data": {
      "text/plain": [
       "1"
      ]
     },
     "execution_count": 14,
     "metadata": {},
     "output_type": "execute_result"
    }
   ],
   "source": [
    "df_train['Tem_Jonkheer.'].sum()"
   ]
  },
  {
   "cell_type": "markdown",
   "metadata": {},
   "source": [
    "Quantos titulos temos no dataframe"
   ]
  },
  {
   "cell_type": "code",
   "execution_count": 15,
   "metadata": {},
   "outputs": [
    {
     "data": {
      "text/plain": [
       "Index(['PassengerId', 'Survived', 'Pclass', 'Name', 'Sex', 'Age', 'SibSp',\n",
       "       'Parch', 'Ticket', 'Fare', 'Cabin', 'Embarked', 'Tem_Sir.', 'Tem_Mlle.',\n",
       "       'Tem_Capt.', 'Tem_Mrs.', 'Tem_Col.', 'Tem_Jonkheer.', 'Tem_Don.',\n",
       "       'Tem_Lady.', 'Tem_Major.', 'Tem_Miss.', 'Tem_Dr.', 'Tem_Mme.',\n",
       "       'Tem_Countess.', 'Tem_Ms.', 'Tem_Mr.', 'Tem_Master.', 'Tem_Rev.'],\n",
       "      dtype='object')"
      ]
     },
     "execution_count": 15,
     "metadata": {},
     "output_type": "execute_result"
    }
   ],
   "source": [
    "df_train.columns"
   ]
  },
  {
   "cell_type": "code",
   "execution_count": 16,
   "metadata": {},
   "outputs": [
    {
     "data": {
      "text/plain": [
       "Tem_Dr.            7\n",
       "Tem_Lady.          1\n",
       "Tem_Ms.            1\n",
       "Tem_Master.       40\n",
       "Tem_Mme.           1\n",
       "Tem_Rev.           6\n",
       "Tem_Major.         2\n",
       "Tem_Mlle.          2\n",
       "Tem_Jonkheer.      1\n",
       "Tem_Sir.           1\n",
       "Tem_Col.           2\n",
       "Tem_Mr.          517\n",
       "Tem_Capt.          1\n",
       "Tem_Countess.      1\n",
       "Tem_Mrs.         125\n",
       "Tem_Miss.        182\n",
       "Tem_Don.           1\n",
       "dtype: int64"
      ]
     },
     "execution_count": 16,
     "metadata": {},
     "output_type": "execute_result"
    }
   ],
   "source": [
    "df_train[['Tem_Dr.', 'Tem_Lady.',\n",
    "       'Tem_Ms.', 'Tem_Master.', 'Tem_Mme.', 'Tem_Rev.', 'Tem_Major.',\n",
    "       'Tem_Mlle.', 'Tem_Jonkheer.', 'Tem_Sir.', 'Tem_Col.', 'Tem_Mr.',\n",
    "       'Tem_Capt.', 'Tem_Countess.', 'Tem_Mrs.', 'Tem_Miss.', 'Tem_Don.']].sum()"
   ]
  },
  {
   "cell_type": "markdown",
   "metadata": {},
   "source": [
    "Verificando os titulos pertencentes as pessoas que tem idade nula"
   ]
  },
  {
   "cell_type": "code",
   "execution_count": 17,
   "metadata": {},
   "outputs": [
    {
     "data": {
      "text/plain": [
       "Tem_Dr.            1\n",
       "Tem_Lady.          0\n",
       "Tem_Ms.            0\n",
       "Tem_Master.        4\n",
       "Tem_Mme.           0\n",
       "Tem_Rev.           0\n",
       "Tem_Major.         0\n",
       "Tem_Mlle.          0\n",
       "Tem_Jonkheer.      0\n",
       "Tem_Sir.           0\n",
       "Tem_Col.           0\n",
       "Tem_Mr.          119\n",
       "Tem_Capt.          0\n",
       "Tem_Countess.      0\n",
       "Tem_Mrs.          17\n",
       "Tem_Miss.         36\n",
       "Tem_Don.           0\n",
       "dtype: int64"
      ]
     },
     "execution_count": 17,
     "metadata": {},
     "output_type": "execute_result"
    }
   ],
   "source": [
    "df_train[df_train['Age'].isnull()][['Tem_Dr.', 'Tem_Lady.',\n",
    "       'Tem_Ms.', 'Tem_Master.', 'Tem_Mme.', 'Tem_Rev.', 'Tem_Major.',\n",
    "       'Tem_Mlle.', 'Tem_Jonkheer.', 'Tem_Sir.', 'Tem_Col.', 'Tem_Mr.',\n",
    "       'Tem_Capt.', 'Tem_Countess.', 'Tem_Mrs.', 'Tem_Miss.', 'Tem_Don.']].sum()"
   ]
  },
  {
   "cell_type": "code",
   "execution_count": 18,
   "metadata": {},
   "outputs": [],
   "source": [
    "def get_age(title, df):\n",
    "    \"\"\"Retorna a média da idade de acordo com o titulo\"\"\"\n",
    "    return df[df[title] == 1]['Age'].mean()"
   ]
  },
  {
   "cell_type": "code",
   "execution_count": 19,
   "metadata": {},
   "outputs": [],
   "source": [
    "def set_age(title, df):\n",
    "    \"\"\"Seta idade nos campos faltantes\"\"\"\n",
    "    df.loc[ (df[title] == 1) & (df['Age'].isnull()), 'Age'] = get_age(title, df)"
   ]
  },
  {
   "cell_type": "code",
   "execution_count": 20,
   "metadata": {},
   "outputs": [],
   "source": [
    "titulo_lista = ['Tem_Dr.', 'Tem_Lady.',\n",
    "       'Tem_Ms.', 'Tem_Master.', 'Tem_Mme.', 'Tem_Rev.', 'Tem_Major.',\n",
    "       'Tem_Mlle.', 'Tem_Jonkheer.', 'Tem_Sir.', 'Tem_Col.', 'Tem_Mr.',\n",
    "       'Tem_Capt.', 'Tem_Countess.', 'Tem_Mrs.', 'Tem_Miss.', 'Tem_Don.']\n",
    "for titulo in titulo_lista:\n",
    "    set_age(titulo, df_train)\n"
   ]
  },
  {
   "cell_type": "markdown",
   "metadata": {},
   "source": [
    "Confirmando que não temos mais idades com valor nulo"
   ]
  },
  {
   "cell_type": "code",
   "execution_count": 21,
   "metadata": {},
   "outputs": [
    {
     "data": {
      "text/plain": [
       "Tem_Dr.          0\n",
       "Tem_Lady.        0\n",
       "Tem_Ms.          0\n",
       "Tem_Master.      0\n",
       "Tem_Mme.         0\n",
       "Tem_Rev.         0\n",
       "Tem_Major.       0\n",
       "Tem_Mlle.        0\n",
       "Tem_Jonkheer.    0\n",
       "Tem_Sir.         0\n",
       "Tem_Col.         0\n",
       "Tem_Mr.          0\n",
       "Tem_Capt.        0\n",
       "Tem_Countess.    0\n",
       "Tem_Mrs.         0\n",
       "Tem_Miss.        0\n",
       "Tem_Don.         0\n",
       "dtype: int64"
      ]
     },
     "execution_count": 21,
     "metadata": {},
     "output_type": "execute_result"
    }
   ],
   "source": [
    "df_train[df_train['Age'].isnull()][titulo_lista].sum()"
   ]
  },
  {
   "cell_type": "markdown",
   "metadata": {},
   "source": [
    "O modelo lê apenas valores numéricos, por este motivo vamos criar algumas novas colunas como sex_boolean para informar se a pessoa é sexo masculino (0) ou feminino (1) bem como para saber o local de embarque (C = Cherbourg, Q = Queenstown, S = Southampton). Também vamos verificar o prefixo da cabine o passageiro."
   ]
  },
  {
   "cell_type": "code",
   "execution_count": 22,
   "metadata": {},
   "outputs": [],
   "source": [
    "df_train = pd.get_dummies(df_train, columns=['Embarked', 'Sex'], drop_first=True).rename(columns={\"Sex_male\": \"Sex\"})"
   ]
  },
  {
   "cell_type": "code",
   "execution_count": 23,
   "metadata": {},
   "outputs": [
    {
     "data": {
      "text/html": [
       "<div>\n",
       "<style scoped>\n",
       "    .dataframe tbody tr th:only-of-type {\n",
       "        vertical-align: middle;\n",
       "    }\n",
       "\n",
       "    .dataframe tbody tr th {\n",
       "        vertical-align: top;\n",
       "    }\n",
       "\n",
       "    .dataframe thead th {\n",
       "        text-align: right;\n",
       "    }\n",
       "</style>\n",
       "<table border=\"1\" class=\"dataframe\">\n",
       "  <thead>\n",
       "    <tr style=\"text-align: right;\">\n",
       "      <th></th>\n",
       "      <th>PassengerId</th>\n",
       "      <th>Survived</th>\n",
       "      <th>Pclass</th>\n",
       "      <th>Name</th>\n",
       "      <th>Age</th>\n",
       "      <th>SibSp</th>\n",
       "      <th>Parch</th>\n",
       "      <th>Ticket</th>\n",
       "      <th>Fare</th>\n",
       "      <th>Cabin</th>\n",
       "      <th>...</th>\n",
       "      <th>Tem_Dr.</th>\n",
       "      <th>Tem_Mme.</th>\n",
       "      <th>Tem_Countess.</th>\n",
       "      <th>Tem_Ms.</th>\n",
       "      <th>Tem_Mr.</th>\n",
       "      <th>Tem_Master.</th>\n",
       "      <th>Tem_Rev.</th>\n",
       "      <th>Embarked_Q</th>\n",
       "      <th>Embarked_S</th>\n",
       "      <th>Sex</th>\n",
       "    </tr>\n",
       "  </thead>\n",
       "  <tbody>\n",
       "    <tr>\n",
       "      <th>0</th>\n",
       "      <td>1</td>\n",
       "      <td>0</td>\n",
       "      <td>3</td>\n",
       "      <td>Braund, Mr. Owen Harris</td>\n",
       "      <td>22.0</td>\n",
       "      <td>1</td>\n",
       "      <td>0</td>\n",
       "      <td>A/5 21171</td>\n",
       "      <td>7.2500</td>\n",
       "      <td>NaN</td>\n",
       "      <td>...</td>\n",
       "      <td>0</td>\n",
       "      <td>0</td>\n",
       "      <td>0</td>\n",
       "      <td>0</td>\n",
       "      <td>1</td>\n",
       "      <td>0</td>\n",
       "      <td>0</td>\n",
       "      <td>0</td>\n",
       "      <td>1</td>\n",
       "      <td>1</td>\n",
       "    </tr>\n",
       "    <tr>\n",
       "      <th>1</th>\n",
       "      <td>2</td>\n",
       "      <td>1</td>\n",
       "      <td>1</td>\n",
       "      <td>Cumings, Mrs. John Bradley (Florence Briggs Th...</td>\n",
       "      <td>38.0</td>\n",
       "      <td>1</td>\n",
       "      <td>0</td>\n",
       "      <td>PC 17599</td>\n",
       "      <td>71.2833</td>\n",
       "      <td>C85</td>\n",
       "      <td>...</td>\n",
       "      <td>0</td>\n",
       "      <td>0</td>\n",
       "      <td>0</td>\n",
       "      <td>0</td>\n",
       "      <td>0</td>\n",
       "      <td>0</td>\n",
       "      <td>0</td>\n",
       "      <td>0</td>\n",
       "      <td>0</td>\n",
       "      <td>0</td>\n",
       "    </tr>\n",
       "    <tr>\n",
       "      <th>2</th>\n",
       "      <td>3</td>\n",
       "      <td>1</td>\n",
       "      <td>3</td>\n",
       "      <td>Heikkinen, Miss. Laina</td>\n",
       "      <td>26.0</td>\n",
       "      <td>0</td>\n",
       "      <td>0</td>\n",
       "      <td>STON/O2. 3101282</td>\n",
       "      <td>7.9250</td>\n",
       "      <td>NaN</td>\n",
       "      <td>...</td>\n",
       "      <td>0</td>\n",
       "      <td>0</td>\n",
       "      <td>0</td>\n",
       "      <td>0</td>\n",
       "      <td>0</td>\n",
       "      <td>0</td>\n",
       "      <td>0</td>\n",
       "      <td>0</td>\n",
       "      <td>1</td>\n",
       "      <td>0</td>\n",
       "    </tr>\n",
       "    <tr>\n",
       "      <th>3</th>\n",
       "      <td>4</td>\n",
       "      <td>1</td>\n",
       "      <td>1</td>\n",
       "      <td>Futrelle, Mrs. Jacques Heath (Lily May Peel)</td>\n",
       "      <td>35.0</td>\n",
       "      <td>1</td>\n",
       "      <td>0</td>\n",
       "      <td>113803</td>\n",
       "      <td>53.1000</td>\n",
       "      <td>C123</td>\n",
       "      <td>...</td>\n",
       "      <td>0</td>\n",
       "      <td>0</td>\n",
       "      <td>0</td>\n",
       "      <td>0</td>\n",
       "      <td>0</td>\n",
       "      <td>0</td>\n",
       "      <td>0</td>\n",
       "      <td>0</td>\n",
       "      <td>1</td>\n",
       "      <td>0</td>\n",
       "    </tr>\n",
       "    <tr>\n",
       "      <th>4</th>\n",
       "      <td>5</td>\n",
       "      <td>0</td>\n",
       "      <td>3</td>\n",
       "      <td>Allen, Mr. William Henry</td>\n",
       "      <td>35.0</td>\n",
       "      <td>0</td>\n",
       "      <td>0</td>\n",
       "      <td>373450</td>\n",
       "      <td>8.0500</td>\n",
       "      <td>NaN</td>\n",
       "      <td>...</td>\n",
       "      <td>0</td>\n",
       "      <td>0</td>\n",
       "      <td>0</td>\n",
       "      <td>0</td>\n",
       "      <td>1</td>\n",
       "      <td>0</td>\n",
       "      <td>0</td>\n",
       "      <td>0</td>\n",
       "      <td>1</td>\n",
       "      <td>1</td>\n",
       "    </tr>\n",
       "  </tbody>\n",
       "</table>\n",
       "<p>5 rows × 30 columns</p>\n",
       "</div>"
      ],
      "text/plain": [
       "   PassengerId  Survived  Pclass  \\\n",
       "0            1         0       3   \n",
       "1            2         1       1   \n",
       "2            3         1       3   \n",
       "3            4         1       1   \n",
       "4            5         0       3   \n",
       "\n",
       "                                                Name   Age  SibSp  Parch  \\\n",
       "0                            Braund, Mr. Owen Harris  22.0      1      0   \n",
       "1  Cumings, Mrs. John Bradley (Florence Briggs Th...  38.0      1      0   \n",
       "2                             Heikkinen, Miss. Laina  26.0      0      0   \n",
       "3       Futrelle, Mrs. Jacques Heath (Lily May Peel)  35.0      1      0   \n",
       "4                           Allen, Mr. William Henry  35.0      0      0   \n",
       "\n",
       "             Ticket     Fare Cabin  ...  Tem_Dr.  Tem_Mme.  Tem_Countess.  \\\n",
       "0         A/5 21171   7.2500   NaN  ...        0         0              0   \n",
       "1          PC 17599  71.2833   C85  ...        0         0              0   \n",
       "2  STON/O2. 3101282   7.9250   NaN  ...        0         0              0   \n",
       "3            113803  53.1000  C123  ...        0         0              0   \n",
       "4            373450   8.0500   NaN  ...        0         0              0   \n",
       "\n",
       "   Tem_Ms.  Tem_Mr.  Tem_Master.  Tem_Rev.  Embarked_Q  Embarked_S  Sex  \n",
       "0        0        1            0         0           0           1    1  \n",
       "1        0        0            0         0           0           0    0  \n",
       "2        0        0            0         0           0           1    0  \n",
       "3        0        0            0         0           0           1    0  \n",
       "4        0        1            0         0           0           1    1  \n",
       "\n",
       "[5 rows x 30 columns]"
      ]
     },
     "execution_count": 23,
     "metadata": {},
     "output_type": "execute_result"
    }
   ],
   "source": [
    "df_train.head()"
   ]
  },
  {
   "cell_type": "code",
   "execution_count": 24,
   "metadata": {},
   "outputs": [],
   "source": [
    "# Removendo dados que não serão utilizados\n",
    "# del df_train['Cabin']"
   ]
  },
  {
   "cell_type": "code",
   "execution_count": 25,
   "metadata": {
    "scrolled": false
   },
   "outputs": [
    {
     "data": {
      "text/html": [
       "<div>\n",
       "<style scoped>\n",
       "    .dataframe tbody tr th:only-of-type {\n",
       "        vertical-align: middle;\n",
       "    }\n",
       "\n",
       "    .dataframe tbody tr th {\n",
       "        vertical-align: top;\n",
       "    }\n",
       "\n",
       "    .dataframe thead th {\n",
       "        text-align: right;\n",
       "    }\n",
       "</style>\n",
       "<table border=\"1\" class=\"dataframe\">\n",
       "  <thead>\n",
       "    <tr style=\"text-align: right;\">\n",
       "      <th></th>\n",
       "      <th>PassengerId</th>\n",
       "      <th>Survived</th>\n",
       "      <th>Pclass</th>\n",
       "      <th>Name</th>\n",
       "      <th>Age</th>\n",
       "      <th>SibSp</th>\n",
       "      <th>Parch</th>\n",
       "      <th>Ticket</th>\n",
       "      <th>Fare</th>\n",
       "      <th>Cabin</th>\n",
       "      <th>...</th>\n",
       "      <th>Tem_Dr.</th>\n",
       "      <th>Tem_Mme.</th>\n",
       "      <th>Tem_Countess.</th>\n",
       "      <th>Tem_Ms.</th>\n",
       "      <th>Tem_Mr.</th>\n",
       "      <th>Tem_Master.</th>\n",
       "      <th>Tem_Rev.</th>\n",
       "      <th>Embarked_Q</th>\n",
       "      <th>Embarked_S</th>\n",
       "      <th>Sex</th>\n",
       "    </tr>\n",
       "  </thead>\n",
       "  <tbody>\n",
       "    <tr>\n",
       "      <th>0</th>\n",
       "      <td>1</td>\n",
       "      <td>0</td>\n",
       "      <td>3</td>\n",
       "      <td>Braund, Mr. Owen Harris</td>\n",
       "      <td>22.0</td>\n",
       "      <td>1</td>\n",
       "      <td>0</td>\n",
       "      <td>A/5 21171</td>\n",
       "      <td>7.2500</td>\n",
       "      <td>NaN</td>\n",
       "      <td>...</td>\n",
       "      <td>0</td>\n",
       "      <td>0</td>\n",
       "      <td>0</td>\n",
       "      <td>0</td>\n",
       "      <td>1</td>\n",
       "      <td>0</td>\n",
       "      <td>0</td>\n",
       "      <td>0</td>\n",
       "      <td>1</td>\n",
       "      <td>1</td>\n",
       "    </tr>\n",
       "    <tr>\n",
       "      <th>1</th>\n",
       "      <td>2</td>\n",
       "      <td>1</td>\n",
       "      <td>1</td>\n",
       "      <td>Cumings, Mrs. John Bradley (Florence Briggs Th...</td>\n",
       "      <td>38.0</td>\n",
       "      <td>1</td>\n",
       "      <td>0</td>\n",
       "      <td>PC 17599</td>\n",
       "      <td>71.2833</td>\n",
       "      <td>C85</td>\n",
       "      <td>...</td>\n",
       "      <td>0</td>\n",
       "      <td>0</td>\n",
       "      <td>0</td>\n",
       "      <td>0</td>\n",
       "      <td>0</td>\n",
       "      <td>0</td>\n",
       "      <td>0</td>\n",
       "      <td>0</td>\n",
       "      <td>0</td>\n",
       "      <td>0</td>\n",
       "    </tr>\n",
       "    <tr>\n",
       "      <th>2</th>\n",
       "      <td>3</td>\n",
       "      <td>1</td>\n",
       "      <td>3</td>\n",
       "      <td>Heikkinen, Miss. Laina</td>\n",
       "      <td>26.0</td>\n",
       "      <td>0</td>\n",
       "      <td>0</td>\n",
       "      <td>STON/O2. 3101282</td>\n",
       "      <td>7.9250</td>\n",
       "      <td>NaN</td>\n",
       "      <td>...</td>\n",
       "      <td>0</td>\n",
       "      <td>0</td>\n",
       "      <td>0</td>\n",
       "      <td>0</td>\n",
       "      <td>0</td>\n",
       "      <td>0</td>\n",
       "      <td>0</td>\n",
       "      <td>0</td>\n",
       "      <td>1</td>\n",
       "      <td>0</td>\n",
       "    </tr>\n",
       "    <tr>\n",
       "      <th>3</th>\n",
       "      <td>4</td>\n",
       "      <td>1</td>\n",
       "      <td>1</td>\n",
       "      <td>Futrelle, Mrs. Jacques Heath (Lily May Peel)</td>\n",
       "      <td>35.0</td>\n",
       "      <td>1</td>\n",
       "      <td>0</td>\n",
       "      <td>113803</td>\n",
       "      <td>53.1000</td>\n",
       "      <td>C123</td>\n",
       "      <td>...</td>\n",
       "      <td>0</td>\n",
       "      <td>0</td>\n",
       "      <td>0</td>\n",
       "      <td>0</td>\n",
       "      <td>0</td>\n",
       "      <td>0</td>\n",
       "      <td>0</td>\n",
       "      <td>0</td>\n",
       "      <td>1</td>\n",
       "      <td>0</td>\n",
       "    </tr>\n",
       "    <tr>\n",
       "      <th>4</th>\n",
       "      <td>5</td>\n",
       "      <td>0</td>\n",
       "      <td>3</td>\n",
       "      <td>Allen, Mr. William Henry</td>\n",
       "      <td>35.0</td>\n",
       "      <td>0</td>\n",
       "      <td>0</td>\n",
       "      <td>373450</td>\n",
       "      <td>8.0500</td>\n",
       "      <td>NaN</td>\n",
       "      <td>...</td>\n",
       "      <td>0</td>\n",
       "      <td>0</td>\n",
       "      <td>0</td>\n",
       "      <td>0</td>\n",
       "      <td>1</td>\n",
       "      <td>0</td>\n",
       "      <td>0</td>\n",
       "      <td>0</td>\n",
       "      <td>1</td>\n",
       "      <td>1</td>\n",
       "    </tr>\n",
       "  </tbody>\n",
       "</table>\n",
       "<p>5 rows × 30 columns</p>\n",
       "</div>"
      ],
      "text/plain": [
       "   PassengerId  Survived  Pclass  \\\n",
       "0            1         0       3   \n",
       "1            2         1       1   \n",
       "2            3         1       3   \n",
       "3            4         1       1   \n",
       "4            5         0       3   \n",
       "\n",
       "                                                Name   Age  SibSp  Parch  \\\n",
       "0                            Braund, Mr. Owen Harris  22.0      1      0   \n",
       "1  Cumings, Mrs. John Bradley (Florence Briggs Th...  38.0      1      0   \n",
       "2                             Heikkinen, Miss. Laina  26.0      0      0   \n",
       "3       Futrelle, Mrs. Jacques Heath (Lily May Peel)  35.0      1      0   \n",
       "4                           Allen, Mr. William Henry  35.0      0      0   \n",
       "\n",
       "             Ticket     Fare Cabin  ...  Tem_Dr.  Tem_Mme.  Tem_Countess.  \\\n",
       "0         A/5 21171   7.2500   NaN  ...        0         0              0   \n",
       "1          PC 17599  71.2833   C85  ...        0         0              0   \n",
       "2  STON/O2. 3101282   7.9250   NaN  ...        0         0              0   \n",
       "3            113803  53.1000  C123  ...        0         0              0   \n",
       "4            373450   8.0500   NaN  ...        0         0              0   \n",
       "\n",
       "   Tem_Ms.  Tem_Mr.  Tem_Master.  Tem_Rev.  Embarked_Q  Embarked_S  Sex  \n",
       "0        0        1            0         0           0           1    1  \n",
       "1        0        0            0         0           0           0    0  \n",
       "2        0        0            0         0           0           1    0  \n",
       "3        0        0            0         0           0           1    0  \n",
       "4        0        1            0         0           0           1    1  \n",
       "\n",
       "[5 rows x 30 columns]"
      ]
     },
     "execution_count": 25,
     "metadata": {},
     "output_type": "execute_result"
    }
   ],
   "source": [
    "df_train.head()"
   ]
  },
  {
   "cell_type": "markdown",
   "metadata": {},
   "source": [
    "### Analisando os dados"
   ]
  },
  {
   "cell_type": "markdown",
   "metadata": {},
   "source": []
  },
  {
   "cell_type": "code",
   "execution_count": 26,
   "metadata": {},
   "outputs": [
    {
     "data": {
      "text/plain": [
       "<matplotlib.axes._subplots.AxesSubplot at 0x7f2e498c8ed0>"
      ]
     },
     "execution_count": 26,
     "metadata": {},
     "output_type": "execute_result"
    },
    {
     "data": {
      "image/png": "[encoded data removed]",
      "text/plain": [
       "<Figure size 864x432 with 1 Axes>"
      ]
     },
     "metadata": {
      "needs_background": "light"
     },
     "output_type": "display_data"
    }
   ],
   "source": [
    "# Distribuição da idade entre pessoas que sobreviveram e que não sobreviveram\n",
    "plt.figure(figsize=(12,6))\n",
    "sns.boxplot(y='Age', x=\"Survived\", data=df_train)"
   ]
  },
  {
   "cell_type": "code",
   "execution_count": 27,
   "metadata": {},
   "outputs": [
    {
     "data": {
      "image/png": "[encoded data removed]",
      "text/plain": [
       "<Figure size 864x432 with 1 Axes>"
      ]
     },
     "metadata": {
      "needs_background": "light"
     },
     "output_type": "display_data"
    }
   ],
   "source": [
    "# Distribuição da idade e sexo entre pessoas que sobreviveram e que não sobreviveram\n",
    "plt.figure(figsize=(12,6))\n",
    "ax = sns.boxplot(y='Age', x=\"Survived\", hue=\"Sex\", data=df_train)\n",
    "handles, _ = ax.get_legend_handles_labels()\n",
    "ax.legend(handles, [\"Male\", \"Female\"])\n",
    "plt.show()"
   ]
  },
  {
   "cell_type": "code",
   "execution_count": 28,
   "metadata": {},
   "outputs": [
    {
     "data": {
      "image/png": "[encoded data removed]",
      "text/plain": [
       "<Figure size 864x432 with 1 Axes>"
      ]
     },
     "metadata": {
      "needs_background": "light"
     },
     "output_type": "display_data"
    }
   ],
   "source": [
    "# Média de idade de sobreviventes e mortos separados por sexo\n",
    "plt.figure(figsize=(12,6))\n",
    "ax = sns.barplot(y='Age', x=\"Survived\", hue=\"Sex\", data=df_train)\n",
    "handles, _ = ax.get_legend_handles_labels()\n",
    "ax.legend(handles, [\"Male\", \"Female\"])\n",
    "plt.show()"
   ]
  },
  {
   "cell_type": "code",
   "execution_count": 29,
   "metadata": {},
   "outputs": [
    {
     "data": {
      "image/png": "[encoded data removed]",
      "text/plain": [
       "<Figure size 864x432 with 1 Axes>"
      ]
     },
     "metadata": {
      "needs_background": "light"
     },
     "output_type": "display_data"
    }
   ],
   "source": [
    "# Distribuição de idade por classe separando por sobreviventes\n",
    "plt.figure(figsize=(12,6))\n",
    "ax = sns.boxplot(y='Age', x=\"Pclass\", hue='Survived', data=df_train)\n",
    "handles, _ = ax.get_legend_handles_labels()\n",
    "ax.legend(handles, [\"Male\", \"Female\"])\n",
    "plt.show()"
   ]
  },
  {
   "cell_type": "code",
   "execution_count": 30,
   "metadata": {},
   "outputs": [
    {
     "data": {
      "image/png": "[encoded data removed]",
      "text/plain": [
       "<Figure size 864x432 with 1 Axes>"
      ]
     },
     "metadata": {
      "needs_background": "light"
     },
     "output_type": "display_data"
    }
   ],
   "source": [
    "# Sobreviventes por classe\n",
    "plt.figure(figsize=(12,6))\n",
    "ax = sns.barplot(y='Age', x=\"Pclass\", hue='Survived', data=df_train)\n",
    "handles, _ = ax.get_legend_handles_labels()\n",
    "ax.legend(handles, [\"Male\", \"Female\"])\n",
    "plt.show()"
   ]
  },
  {
   "cell_type": "markdown",
   "metadata": {},
   "source": [
    "Somando as colunas SibSp e Parch para ter uma ideia melhor de quantas pessoas viajaram juntas"
   ]
  },
  {
   "cell_type": "code",
   "execution_count": 31,
   "metadata": {},
   "outputs": [],
   "source": [
    "df_train['qtd_relatives'] = df_train['SibSp'] + df_train['Parch']"
   ]
  },
  {
   "cell_type": "code",
   "execution_count": 32,
   "metadata": {},
   "outputs": [
    {
     "data": {
      "text/plain": [
       "<matplotlib.axes._subplots.AxesSubplot at 0x7f2e49763450>"
      ]
     },
     "execution_count": 32,
     "metadata": {},
     "output_type": "execute_result"
    },
    {
     "data": {
      "image/png": "[encoded data removed]",
      "text/plain": [
       "<Figure size 864x432 with 1 Axes>"
      ]
     },
     "metadata": {
      "needs_background": "light"
     },
     "output_type": "display_data"
    }
   ],
   "source": [
    "# Indice de sobrevivencia por quantidade de parentes viajando junto\n",
    "plt.figure(figsize=(12,6))\n",
    "sns.lineplot(x='qtd_relatives', y=\"Survived\", data=df_train, ci=None)"
   ]
  },
  {
   "cell_type": "code",
   "execution_count": 33,
   "metadata": {},
   "outputs": [
    {
     "data": {
      "text/plain": [
       "<matplotlib.axes._subplots.AxesSubplot at 0x7f2e495f4a10>"
      ]
     },
     "execution_count": 33,
     "metadata": {},
     "output_type": "execute_result"
    },
    {
     "data": {
      "image/png": "[encoded data removed]",
      "text/plain": [
       "<Figure size 864x432 with 1 Axes>"
      ]
     },
     "metadata": {
      "needs_background": "light"
     },
     "output_type": "display_data"
    }
   ],
   "source": [
    "plt.figure(figsize=(12,6))\n",
    "sns.boxplot(y='qtd_relatives', x=\"Survived\", data=df_train)"
   ]
  },
  {
   "cell_type": "code",
   "execution_count": 34,
   "metadata": {},
   "outputs": [
    {
     "data": {
      "image/png": "[encoded data removed]",
      "text/plain": [
       "<Figure size 864x432 with 1 Axes>"
      ]
     },
     "metadata": {
      "needs_background": "light"
     },
     "output_type": "display_data"
    }
   ],
   "source": [
    "# Verificando a quantidade de parentes que viajaram com homens e mulheres\n",
    "plt.figure(figsize=(12,6))\n",
    "ax = sns.boxplot(y='qtd_relatives', x=\"Sex\", data=df_train)\n",
    "ax.set_xticklabels(['Male', \"Female\"])\n",
    "\n",
    "plt.show()"
   ]
  },
  {
   "cell_type": "code",
   "execution_count": 35,
   "metadata": {},
   "outputs": [
    {
     "data": {
      "image/png": "[encoded data removed]",
      "text/plain": [
       "<Figure size 864x432 with 1 Axes>"
      ]
     },
     "metadata": {
      "needs_background": "light"
     },
     "output_type": "display_data"
    }
   ],
   "source": [
    "# Morte por quantidade de parente\n",
    "plt.figure(figsize=(12,6))\n",
    "ax = sns.boxplot(y='qtd_relatives', x=\"Sex\", hue='Survived', data=df_train)\n",
    "ax.set_xticklabels([\"Female\", \"Male\"])\n",
    "\n",
    "plt.show()"
   ]
  },
  {
   "cell_type": "code",
   "execution_count": 36,
   "metadata": {},
   "outputs": [
    {
     "data": {
      "text/plain": [
       "<matplotlib.axes._subplots.AxesSubplot at 0x7f2e49579a10>"
      ]
     },
     "execution_count": 36,
     "metadata": {},
     "output_type": "execute_result"
    },
    {
     "data": {
      "image/png": "[encoded data removed]",
      "text/plain": [
       "<Figure size 864x432 with 1 Axes>"
      ]
     },
     "metadata": {
      "needs_background": "light"
     },
     "output_type": "display_data"
    }
   ],
   "source": [
    "# Distribuição de preço por sobreviventes\n",
    "plt.figure(figsize=(12,6))\n",
    "sns.boxplot(y='Fare', x=\"Survived\", data=df_train)"
   ]
  },
  {
   "cell_type": "code",
   "execution_count": 37,
   "metadata": {},
   "outputs": [
    {
     "data": {
      "text/plain": [
       "<matplotlib.axes._subplots.AxesSubplot at 0x7f2e494e0c10>"
      ]
     },
     "execution_count": 37,
     "metadata": {},
     "output_type": "execute_result"
    },
    {
     "data": {
      "image/png": "[encoded data removed]",
      "text/plain": [
       "<Figure size 864x432 with 1 Axes>"
      ]
     },
     "metadata": {
      "needs_background": "light"
     },
     "output_type": "display_data"
    }
   ],
   "source": [
    "# Média de preço por sobreviventes\n",
    "plt.figure(figsize=(12,6))\n",
    "sns.barplot(y='Fare', x=\"Survived\", data=df_train)"
   ]
  },
  {
   "cell_type": "markdown",
   "metadata": {},
   "source": [
    "Separando entre treino e teste"
   ]
  },
  {
   "cell_type": "code",
   "execution_count": 38,
   "metadata": {},
   "outputs": [],
   "source": [
    "df_train = pd.get_dummies(df_train, columns=['Pclass'])"
   ]
  },
  {
   "cell_type": "markdown",
   "metadata": {},
   "source": [
    "Separando pelo quantile das passagens"
   ]
  },
  {
   "cell_type": "code",
   "execution_count": 39,
   "metadata": {},
   "outputs": [],
   "source": [
    "df_train['p_25'] = (df_train[['Fare']] <= df_train[['Fare']].quantile(0.25)).astype(int)\n",
    "df_train['p_50'] = ((df_train[['Fare']] > df_train[['Fare']].quantile(0.25)) & (df_train[['Fare']] <= df_train[['Fare']].quantile(0.50))).astype(int)\n",
    "df_train['p_75'] = ((df_train[['Fare']] > df_train[['Fare']].quantile(0.50)) & (df_train[['Fare']] <= df_train[['Fare']].quantile(0.75))).astype(int)\n",
    "df_train['p_maior_75'] = (df_train[['Fare']] > df_train[['Fare']].quantile(0.75)).astype(int)"
   ]
  },
  {
   "cell_type": "code",
   "execution_count": 40,
   "metadata": {},
   "outputs": [
    {
     "data": {
      "text/plain": [
       "PassengerId        int64\n",
       "Survived           int64\n",
       "Name              object\n",
       "Age              float64\n",
       "SibSp              int64\n",
       "Parch              int64\n",
       "Ticket            object\n",
       "Fare             float64\n",
       "Cabin             object\n",
       "Tem_Sir.           int64\n",
       "Tem_Mlle.          int64\n",
       "Tem_Capt.          int64\n",
       "Tem_Mrs.           int64\n",
       "Tem_Col.           int64\n",
       "Tem_Jonkheer.      int64\n",
       "Tem_Don.           int64\n",
       "Tem_Lady.          int64\n",
       "Tem_Major.         int64\n",
       "Tem_Miss.          int64\n",
       "Tem_Dr.            int64\n",
       "Tem_Mme.           int64\n",
       "Tem_Countess.      int64\n",
       "Tem_Ms.            int64\n",
       "Tem_Mr.            int64\n",
       "Tem_Master.        int64\n",
       "Tem_Rev.           int64\n",
       "Embarked_Q         uint8\n",
       "Embarked_S         uint8\n",
       "Sex                uint8\n",
       "qtd_relatives      int64\n",
       "Pclass_1           uint8\n",
       "Pclass_2           uint8\n",
       "Pclass_3           uint8\n",
       "p_25               int64\n",
       "p_50               int64\n",
       "p_75               int64\n",
       "p_maior_75         int64\n",
       "dtype: object"
      ]
     },
     "execution_count": 40,
     "metadata": {},
     "output_type": "execute_result"
    }
   ],
   "source": [
    "df_train.dtypes"
   ]
  },
  {
   "cell_type": "code",
   "execution_count": null,
   "metadata": {},
   "outputs": [],
   "source": []
  },
  {
   "cell_type": "code",
   "execution_count": 41,
   "metadata": {},
   "outputs": [],
   "source": [
    "df_train['Age'] = df_train['Age'].astype(int) \n",
    "df_train['Age_5'] = (df_train['Age'] <= 5).astype(int)\n",
    "df_train['Age_5_10'] = ((df_train['Age'] > 5) & (df_train['Age'] <= 10)).astype(int)\n",
    "df_train['Age_10_20'] = ((df_train['Age'] > 10) & (df_train['Age'] <= 20)).astype(int)\n",
    "df_train['Age_20_30'] = ((df_train['Age'] > 20) & (df_train['Age'] <= 30)).astype(int)\n",
    "df_train['Age_30_40'] = ((df_train['Age'] > 30) & (df_train['Age'] <= 40)).astype(int)\n",
    "df_train['Age_40_50'] = ((df_train['Age'] > 40) & (df_train['Age'] <= 50)).astype(int)\n",
    "df_train['Age_50'] = (df_train['Age'] > 50).astype(int)"
   ]
  },
  {
   "cell_type": "code",
   "execution_count": 42,
   "metadata": {},
   "outputs": [
    {
     "data": {
      "text/plain": [
       "['PassengerId',\n",
       " 'Survived',\n",
       " 'Name',\n",
       " 'Age',\n",
       " 'SibSp',\n",
       " 'Parch',\n",
       " 'Ticket',\n",
       " 'Fare',\n",
       " 'Cabin',\n",
       " 'Tem_Sir.',\n",
       " 'Tem_Mlle.',\n",
       " 'Tem_Capt.',\n",
       " 'Tem_Mrs.',\n",
       " 'Tem_Col.',\n",
       " 'Tem_Jonkheer.',\n",
       " 'Tem_Don.',\n",
       " 'Tem_Lady.',\n",
       " 'Tem_Major.',\n",
       " 'Tem_Miss.',\n",
       " 'Tem_Dr.',\n",
       " 'Tem_Mme.',\n",
       " 'Tem_Countess.',\n",
       " 'Tem_Ms.',\n",
       " 'Tem_Mr.',\n",
       " 'Tem_Master.',\n",
       " 'Tem_Rev.',\n",
       " 'Embarked_Q',\n",
       " 'Embarked_S',\n",
       " 'Sex',\n",
       " 'qtd_relatives',\n",
       " 'Pclass_1',\n",
       " 'Pclass_2',\n",
       " 'Pclass_3',\n",
       " 'p_25',\n",
       " 'p_50',\n",
       " 'p_75',\n",
       " 'p_maior_75',\n",
       " 'Age_5',\n",
       " 'Age_5_10',\n",
       " 'Age_10_20',\n",
       " 'Age_20_30',\n",
       " 'Age_30_40',\n",
       " 'Age_40_50',\n",
       " 'Age_50']"
      ]
     },
     "execution_count": 42,
     "metadata": {},
     "output_type": "execute_result"
    }
   ],
   "source": [
    "df_train.columns.to_list()"
   ]
  },
  {
   "cell_type": "code",
   "execution_count": 43,
   "metadata": {},
   "outputs": [
    {
     "data": {
      "text/plain": [
       "Tem_Mr.          517\n",
       "Tem_Miss.        182\n",
       "Tem_Mrs.         125\n",
       "Tem_Master.       40\n",
       "Tem_Dr.            7\n",
       "Tem_Rev.           6\n",
       "Tem_Col.           2\n",
       "Tem_Mlle.          2\n",
       "Tem_Major.         2\n",
       "Tem_Mme.           1\n",
       "Tem_Lady.          1\n",
       "Tem_Ms.            1\n",
       "Tem_Don.           1\n",
       "Tem_Sir.           1\n",
       "Tem_Capt.          1\n",
       "Tem_Countess.      1\n",
       "Tem_Jonkheer.      1\n",
       "dtype: int64"
      ]
     },
     "execution_count": 43,
     "metadata": {},
     "output_type": "execute_result"
    }
   ],
   "source": [
    "df_train[titulo_lista].sum().sort_values(ascending=False)"
   ]
  },
  {
   "cell_type": "code",
   "execution_count": 44,
   "metadata": {},
   "outputs": [],
   "source": [
    "X_vars = ['Pclass_1', 'Pclass_2', 'Pclass_3', \n",
    "              'Age', 'Fare', 'Sex', 'Embarked_Q', 'Embarked_S', \n",
    "              'qtd_relatives', 'p_25', 'p_50', 'p_75', 'p_maior_75', 'Tem_Master.',\n",
    "                 'Tem_Mr.', 'Tem_Mrs.', 'Tem_Miss.', 'Tem_Capt.', 'Tem_Major.',\n",
    "                  'Tem_Countess.', 'Tem_Col.', 'Tem_Dr.', 'Age_5',\n",
    " 'Age_5_10',\n",
    " 'Age_10_20',\n",
    " 'Age_20_30',\n",
    " 'Age_30_40',\n",
    " 'Age_40_50',\n",
    " 'Age_50']"
   ]
  },
  {
   "cell_type": "code",
   "execution_count": 45,
   "metadata": {},
   "outputs": [
    {
     "name": "stdout",
     "output_type": "stream",
     "text": [
      "891 891\n"
     ]
    }
   ],
   "source": [
    "X = df_train[X_vars]\n",
    "y = df_train['Survived']\n",
    "print(X.shape[0], y.shape[0])"
   ]
  },
  {
   "cell_type": "code",
   "execution_count": 46,
   "metadata": {},
   "outputs": [
    {
     "name": "stdout",
     "output_type": "stream",
     "text": [
      "712 179 712 179\n"
     ]
    }
   ],
   "source": [
    "X_train, X_test, y_train, y_test = train_test_split(X, y, test_size=0.2, random_state=42)\n",
    "print(X_train.shape[0], X_test.shape[0], y_train.shape[0], y_test.shape[0])"
   ]
  },
  {
   "cell_type": "markdown",
   "metadata": {},
   "source": [
    "# Treinando modelo"
   ]
  },
  {
   "cell_type": "code",
   "execution_count": 47,
   "metadata": {},
   "outputs": [],
   "source": [
    "from sklearn.ensemble import RandomForestClassifier\n",
    "from sklearn import metrics"
   ]
  },
  {
   "cell_type": "code",
   "execution_count": 48,
   "metadata": {},
   "outputs": [
    {
     "data": {
      "text/plain": [
       "RandomForestClassifier(bootstrap=True, ccp_alpha=0.0, class_weight=None,\n",
       "                       criterion='gini', max_depth=None, max_features='auto',\n",
       "                       max_leaf_nodes=None, max_samples=None,\n",
       "                       min_impurity_decrease=0.0, min_impurity_split=None,\n",
       "                       min_samples_leaf=1, min_samples_split=2,\n",
       "                       min_weight_fraction_leaf=0.0, n_estimators=100,\n",
       "                       n_jobs=None, oob_score=False, random_state=42, verbose=0,\n",
       "                       warm_start=False)"
      ]
     },
     "execution_count": 48,
     "metadata": {},
     "output_type": "execute_result"
    }
   ],
   "source": [
    "modelo = RandomForestClassifier(random_state=42)\n",
    "modelo.fit(X_train, y_train)"
   ]
  },
  {
   "cell_type": "code",
   "execution_count": 72,
   "metadata": {},
   "outputs": [
    {
     "name": "stdout",
     "output_type": "stream",
     "text": [
      "77.64999999999999 %\n",
      "              precision    recall  f1-score   support\n",
      "\n",
      "           0       0.74      0.95      0.83       105\n",
      "           1       0.89      0.53      0.66        74\n",
      "\n",
      "    accuracy                           0.78       179\n",
      "   macro avg       0.81      0.74      0.75       179\n",
      "weighted avg       0.80      0.78      0.76       179\n",
      "\n",
      "\n"
     ]
    }
   ],
   "source": [
    "predict = modelo.predict(X_test)\n",
    "predict_proba = modelo.predict_proba(X_test)\n",
    "threshold = 0.88\n",
    "predict= (predict_proba[:,1] >= threshold).astype('int')\n",
    "\n",
    "\n",
    "accuracy = metrics.accuracy_score(y_test, predict)\n",
    "print(round(accuracy,4,)*100, \"%\")\n",
    "print(metrics.classification_report(y_test, predict))\n",
    "print()"
   ]
  },
  {
   "cell_type": "code",
   "execution_count": 73,
   "metadata": {},
   "outputs": [
    {
     "name": "stdout",
     "output_type": "stream",
     "text": [
      "[[100   5]\n",
      " [ 35  39]]\n"
     ]
    }
   ],
   "source": [
    "print(metrics.confusion_matrix(y_test, predict))"
   ]
  },
  {
   "cell_type": "code",
   "execution_count": 74,
   "metadata": {},
   "outputs": [
    {
     "name": "stdout",
     "output_type": "stream",
     "text": [
      "0.89\n"
     ]
    }
   ],
   "source": [
    "print(metrics.precision_score(y_test, predict).round(2))"
   ]
  },
  {
   "cell_type": "markdown",
   "metadata": {},
   "source": [
    "Verificando probabilidade de morte e valor predito"
   ]
  },
  {
   "cell_type": "code",
   "execution_count": 76,
   "metadata": {},
   "outputs": [
    {
     "data": {
      "text/html": [
       "<div>\n",
       "<style scoped>\n",
       "    .dataframe tbody tr th:only-of-type {\n",
       "        vertical-align: middle;\n",
       "    }\n",
       "\n",
       "    .dataframe tbody tr th {\n",
       "        vertical-align: top;\n",
       "    }\n",
       "\n",
       "    .dataframe thead th {\n",
       "        text-align: right;\n",
       "    }\n",
       "</style>\n",
       "<table border=\"1\" class=\"dataframe\">\n",
       "  <thead>\n",
       "    <tr style=\"text-align: right;\">\n",
       "      <th></th>\n",
       "      <th>y_true</th>\n",
       "      <th>y_proba_death</th>\n",
       "      <th>y_predict</th>\n",
       "    </tr>\n",
       "  </thead>\n",
       "  <tbody>\n",
       "    <tr>\n",
       "      <th>485</th>\n",
       "      <td>0</td>\n",
       "      <td>0.980</td>\n",
       "      <td>0</td>\n",
       "    </tr>\n",
       "    <tr>\n",
       "      <th>652</th>\n",
       "      <td>0</td>\n",
       "      <td>0.950</td>\n",
       "      <td>0</td>\n",
       "    </tr>\n",
       "    <tr>\n",
       "      <th>594</th>\n",
       "      <td>0</td>\n",
       "      <td>0.980</td>\n",
       "      <td>0</td>\n",
       "    </tr>\n",
       "    <tr>\n",
       "      <th>306</th>\n",
       "      <td>1</td>\n",
       "      <td>0.000</td>\n",
       "      <td>1</td>\n",
       "    </tr>\n",
       "    <tr>\n",
       "      <th>493</th>\n",
       "      <td>0</td>\n",
       "      <td>0.780</td>\n",
       "      <td>0</td>\n",
       "    </tr>\n",
       "    <tr>\n",
       "      <th>299</th>\n",
       "      <td>1</td>\n",
       "      <td>0.040</td>\n",
       "      <td>1</td>\n",
       "    </tr>\n",
       "    <tr>\n",
       "      <th>529</th>\n",
       "      <td>0</td>\n",
       "      <td>0.960</td>\n",
       "      <td>0</td>\n",
       "    </tr>\n",
       "    <tr>\n",
       "      <th>33</th>\n",
       "      <td>0</td>\n",
       "      <td>0.425</td>\n",
       "      <td>0</td>\n",
       "    </tr>\n",
       "    <tr>\n",
       "      <th>785</th>\n",
       "      <td>0</td>\n",
       "      <td>0.930</td>\n",
       "      <td>0</td>\n",
       "    </tr>\n",
       "    <tr>\n",
       "      <th>422</th>\n",
       "      <td>0</td>\n",
       "      <td>0.940</td>\n",
       "      <td>0</td>\n",
       "    </tr>\n",
       "  </tbody>\n",
       "</table>\n",
       "</div>"
      ],
      "text/plain": [
       "     y_true  y_proba_death  y_predict\n",
       "485       0          0.980          0\n",
       "652       0          0.950          0\n",
       "594       0          0.980          0\n",
       "306       1          0.000          1\n",
       "493       0          0.780          0\n",
       "299       1          0.040          1\n",
       "529       0          0.960          0\n",
       "33        0          0.425          0\n",
       "785       0          0.930          0\n",
       "422       0          0.940          0"
      ]
     },
     "execution_count": 76,
     "metadata": {},
     "output_type": "execute_result"
    }
   ],
   "source": [
    "resultado = pd.DataFrame()\n",
    "resultado['y_true'] = y_test\n",
    "resultado['y_proba_death'] = predict_proba[:,0]\n",
    "resultado['y_predict'] = predict\n",
    "proba = 0.50\n",
    "# resultado[resultado['y_proba_death'] > proba].sample(10)\n",
    "resultado.sample(10)"
   ]
  },
  {
   "cell_type": "code",
   "execution_count": 53,
   "metadata": {},
   "outputs": [
    {
     "data": {
      "text/plain": [
       "<matplotlib.axes._subplots.AxesSubplot at 0x7f2e494c5850>"
      ]
     },
     "execution_count": 53,
     "metadata": {},
     "output_type": "execute_result"
    },
    {
     "data": {
      "image/png": "[encoded data removed]",
      "text/plain": [
       "<Figure size 432x288 with 1 Axes>"
      ]
     },
     "metadata": {
      "needs_background": "light"
     },
     "output_type": "display_data"
    }
   ],
   "source": [
    "sns.distplot(resultado['y_proba_death'])"
   ]
  },
  {
   "cell_type": "markdown",
   "metadata": {},
   "source": [
    "O Modelo de treino tivemos uma taxa de acerto de 82%.\n",
    "\n",
    "Próximo passo é carregar o dataFrame de teste, fazer a as modificações, rodar o predict e dar submit no kaggle."
   ]
  },
  {
   "cell_type": "code",
   "execution_count": 54,
   "metadata": {},
   "outputs": [],
   "source": [
    "# Criando as colunas de titulo\n",
    "has_title('Master.', df_test)\n",
    "has_title(\"Mr.\", df_test)\n",
    "has_title(\"Mrs.\", df_test)\n",
    "has_title(\"Miss.\", df_test)\n",
    "has_title(\"Capt.\", df_test)\n",
    "has_title(\"Major.\", df_test)\n",
    "has_title(\"Countess.\", df_test)\n",
    "has_title(\"Col.\", df_test)\n",
    "has_title(\"Dr.\", df_test)\n",
    "has_title(\"Ms.\", df_test)\n",
    "# Alterandos os campos com idade nula\n",
    "set_age('Tem_Master.', df_test)\n",
    "set_age('Tem_Mr.', df_test)\n",
    "set_age('Tem_Miss.', df_test)\n",
    "set_age('Tem_Mrs.', df_test)\n",
    "set_age('Tem_Dr.', df_test)\n",
    "set_age(\"Tem_Capt.\", df_test)\n",
    "set_age(\"Tem_Major.\", df_test)\n",
    "set_age(\"Tem_Countess.\", df_test)\n",
    "set_age(\"Tem_Col.\", df_test)\n",
    "set_age(\"Tem_Ms.\", df_test)\n",
    "#Binarizando coluna Sex e Embarked\n",
    "df_test = pd.get_dummies(df_test, columns=['Embarked', 'Sex', 'Pclass']).rename(columns={\"Sex_male\": \"Sex\"})\n",
    "\n",
    "df_test['qtd_relatives'] = df_test['SibSp'] + df_test['Parch']\n",
    "df_test.loc[df_test[\"Tem_Ms.\"] == 1, 'Age'] = int(df_test[\"Age\"].mean())\n",
    "df_test.loc[df_test['Fare'].isna(), 'Fare'] = df_test['Fare'].median()\n",
    "\n",
    "df_test['p_25'] = (df_test[['Fare']] <= df_test[['Fare']].quantile(0.25)).astype(int)\n",
    "df_test['p_50'] = ((df_test[['Fare']] > df_test[['Fare']].quantile(0.25)) & (df_test[['Fare']] <= df_test[['Fare']].quantile(0.50))).astype(int)\n",
    "df_test['p_75'] = ((df_test[['Fare']] > df_test[['Fare']].quantile(0.50)) & (df_test[['Fare']] <= df_test[['Fare']].quantile(0.75))).astype(int)\n",
    "df_test['p_maior_75'] = (df_test[['Fare']] > df_test[['Fare']].quantile(0.75)).astype(int)\n",
    "\n",
    "df_test['Age'] = df_test['Age'].astype(int) \n",
    "df_test['Age_5'] = (df_test['Age'] <= 5).astype(int)\n",
    "df_test['Age_5_10'] = ((df_test['Age'] > 5) & (df_test['Age'] <= 10)).astype(int)\n",
    "df_test['Age_10_20'] = ((df_test['Age'] > 10) & (df_test['Age'] <= 20)).astype(int)\n",
    "df_test['Age_20_30'] = ((df_test['Age'] > 20) & (df_test['Age'] <= 30)).astype(int)\n",
    "df_test['Age_30_40'] = ((df_test['Age'] > 30) & (df_test['Age'] <= 40)).astype(int)\n",
    "df_test['Age_40_50'] = ((df_test['Age'] > 40) & (df_test['Age'] <= 50)).astype(int)\n",
    "df_test['Age_50'] = (df_test['Age'] > 50).astype(int)"
   ]
  },
  {
   "cell_type": "code",
   "execution_count": 55,
   "metadata": {},
   "outputs": [
    {
     "data": {
      "text/plain": [
       "['Pclass_1',\n",
       " 'Pclass_2',\n",
       " 'Pclass_3',\n",
       " 'Age',\n",
       " 'Fare',\n",
       " 'Sex',\n",
       " 'Embarked_Q',\n",
       " 'Embarked_S',\n",
       " 'qtd_relatives',\n",
       " 'p_25',\n",
       " 'p_50',\n",
       " 'p_75',\n",
       " 'p_maior_75',\n",
       " 'Tem_Master.',\n",
       " 'Tem_Mr.',\n",
       " 'Tem_Mrs.',\n",
       " 'Tem_Miss.',\n",
       " 'Tem_Capt.',\n",
       " 'Tem_Major.',\n",
       " 'Tem_Countess.',\n",
       " 'Tem_Col.',\n",
       " 'Tem_Dr.',\n",
       " 'Age_5',\n",
       " 'Age_5_10',\n",
       " 'Age_10_20',\n",
       " 'Age_20_30',\n",
       " 'Age_30_40',\n",
       " 'Age_40_50',\n",
       " 'Age_50']"
      ]
     },
     "execution_count": 55,
     "metadata": {},
     "output_type": "execute_result"
    }
   ],
   "source": [
    "X_vars"
   ]
  },
  {
   "cell_type": "code",
   "execution_count": 59,
   "metadata": {},
   "outputs": [],
   "source": [
    "# test_predict = modelo.predict(df_test[X_vars])\n",
    "test_predict_proba = modelo.predict_proba(df_test[X_vars])\n",
    "threshold = 0.8\n",
    "predict= (test_predict_proba[:,1] >= threshold).astype('int')"
   ]
  },
  {
   "cell_type": "code",
   "execution_count": 60,
   "metadata": {},
   "outputs": [],
   "source": [
    "sub = pd.Series(predict, index=df_test['PassengerId'], name='Survived')\n",
    "sub.to_csv(\"results/random_forest_threshold_8.csv\", header=True)"
   ]
  },
  {
   "cell_type": "code",
   "execution_count": 61,
   "metadata": {},
   "outputs": [
    {
     "name": "stdout",
     "output_type": "stream",
     "text": [
      "PassengerId,Survived\r\n",
      "892,0\r\n",
      "893,0\r\n",
      "894,0\r\n",
      "895,0\r\n",
      "896,1\r\n",
      "897,0\r\n",
      "898,0\r\n",
      "899,0\r\n",
      "900,1\r\n"
     ]
    }
   ],
   "source": [
    "!head -n10 results/try_logReg.csv"
   ]
  },
  {
   "cell_type": "markdown",
   "metadata": {},
   "source": [
    "* Score Kaggle: 0.73205 - precisa melhorar\n",
    "* Score Kaggle com trashold 0.70: 0.75358\n",
    "* Score Kaggle com trashold 0.80: 0.76076"
   ]
  }
 ],
 "metadata": {
  "kernelspec": {
   "display_name": "Python 3",
   "language": "python",
   "name": "python3"
  },
  "language_info": {
   "codemirror_mode": {
    "name": "ipython",
    "version": 3
   },
   "file_extension": ".py",
   "mimetype": "text/x-python",
   "name": "python",
   "nbconvert_exporter": "python",
   "pygments_lexer": "ipython3",
   "version": "3.7.6"
  }
 },
 "nbformat": 4,
 "nbformat_minor": 4
}
